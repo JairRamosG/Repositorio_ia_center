{
 "cells": [
  {
   "cell_type": "code",
   "execution_count": null,
   "metadata": {},
   "outputs": [],
   "source": [
    "import requests\n",
    "from bs4 import BeautifulSoup\n",
    "import pandas as pd\n",
    "import datetime"
   ]
  },
  {
   "cell_type": "code",
   "execution_count": null,
   "metadata": {},
   "outputs": [],
   "source": [
    "url_base = \"https://www.gasolinamx.com/estado/ciudad-de-mexico-cdmx/\"\n",
    "tipo_combustible = [\"Magna\", \"Premium\", \"Diesel\"]\n",
    "delegaciones_cdmx = ['alvaro-obregon', 'azcapotzalco', 'benito-juarez', 'coyoacan', 'cuajimalpa-de-morelos', 'cuauhtemoc',\n",
    "                     'gustavo-a-madero', 'iztacalco', 'iztapalapa', 'la-magdalena-contreras', 'miguel-hidalgo', 'milpa-alta', \n",
    "                     'tlahuac', 'tlalpan', 'venustiano-carranza', 'xochimilco']\n",
    "fecha = datetime.datetime.now().strftime(\"%d-%m-%Y\")\n",
    "data = []"
   ]
  },
  {
   "cell_type": "code",
   "execution_count": null,
   "metadata": {},
   "outputs": [],
   "source": [
    "def obtener_contneido_pagina(url):\n",
    "    pagina = requests.get(url)\n",
    "    return pagina.content"
   ]
  },
  {
   "cell_type": "code",
   "execution_count": null,
   "metadata": {},
   "outputs": [],
   "source": [
    "def genera_soup(html):\n",
    "    return BeautifulSoup(html, \"html.parser\") "
   ]
  },
  {
   "cell_type": "code",
   "execution_count": null,
   "metadata": {},
   "outputs": [],
   "source": [
    "def procesar_pagina(soup, fecha, delegacion):\n",
    "\n",
    "    tr_magna = soup.find(\"tr\", class_ = \"bg-green\")\n",
    "    precio_magna = tr_magna.text[6:].strip()\n",
    "\n",
    "    tr_premium = soup.find(\"tr\", class_ = \"bg-red\")\n",
    "    precio_premium = tr_premium.text[9:].strip()\n",
    "\n",
    "    tr_diesel = soup.find(\"tr\", class_ = \"bg-black\")\n",
    "    precio_diesel = tr_diesel.text[7:].strip()\n",
    "\n",
    "    precios = [precio_magna, precio_premium, precio_diesel]\n",
    "    \n",
    "    for i in range(len(precios)):\n",
    "        data.append({\"Fecha\" : fecha,\n",
    "                     \"Delegacion\" : delegacion,\n",
    "                     \"Combustible\" : tipo_combustible[i],\n",
    "                     \"Precio\" : precios[i]})\n",
    "      \n",
    "    return data"
   ]
  },
  {
   "cell_type": "code",
   "execution_count": null,
   "metadata": {},
   "outputs": [],
   "source": [
    "def manejar_paginacion(url_base):\n",
    "    for delegacion in delegaciones_cdmx:\n",
    "        url = url_base + delegacion\n",
    "        html = obtener_contneido_pagina(url)\n",
    "        soup = genera_soup(html)\n",
    "        procesar_pagina(soup, fecha, delegacion)\n",
    "    return pd.DataFrame(data)"
   ]
  },
  {
   "cell_type": "code",
   "execution_count": null,
   "metadata": {},
   "outputs": [],
   "source": [
    "df_hoy = manejar_paginacion(url_base)\n",
    "def actualiza_base(df_hoy):\n",
    "    df_base = pd.read_csv(\".../csv_gasolina/Base.csv\")\n",
    "    df_nuevo = pd.concat([df_base, df_hoy])\n",
    "    df_nuevo.to_csv(\"csv_gasolina/\" + fecha + \" actualizacion.csv\")"
   ]
  },
  {
   "cell_type": "code",
   "execution_count": null,
   "metadata": {},
   "outputs": [],
   "source": [
    "# Esto correrlo mañana, antes corroborar que se actualizaron los valores\n",
    "# df_nuevo = actualiza_base(df_hoy)"
   ]
  }
 ],
 "metadata": {
  "kernelspec": {
   "display_name": "Python 3",
   "language": "python",
   "name": "python3"
  },
  "language_info": {
   "name": "python",
   "version": "3.10.5"
  },
  "orig_nbformat": 4
 },
 "nbformat": 4,
 "nbformat_minor": 2
}
