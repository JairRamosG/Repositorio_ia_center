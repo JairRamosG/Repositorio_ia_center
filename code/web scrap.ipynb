{
 "cells": [
  {
   "attachments": {},
   "cell_type": "markdown",
   "metadata": {},
   "source": [
    "WEB SCRAPING\n",
    "\n",
    "SOLICITUDES HTTP\n",
    "\n",
    "1.- GET\n",
    "\n",
    "2.- POST\n",
    "\n",
    "3.- PUT\n",
    "\n",
    "4.- DELETE\n"
   ]
  },
  {
   "cell_type": "code",
   "execution_count": null,
   "metadata": {},
   "outputs": [],
   "source": [
    "# Hace la instalacion de requests\n",
    "pip install requests"
   ]
  },
  {
   "cell_type": "code",
   "execution_count": null,
   "metadata": {},
   "outputs": [],
   "source": [
    "pip install beautifulsoup4"
   ]
  },
  {
   "cell_type": "code",
   "execution_count": null,
   "metadata": {},
   "outputs": [],
   "source": [
    "import requests\n",
    "from bs4 import BeautifulSoup"
   ]
  },
  {
   "attachments": {},
   "cell_type": "markdown",
   "metadata": {},
   "source": [
    "ENVIAR PETICION HTTP PARA EXTRAER EL CODIGO FUENTE DE LA PAPGINA WEB"
   ]
  },
  {
   "cell_type": "code",
   "execution_count": null,
   "metadata": {},
   "outputs": [],
   "source": [
    "pagina_web = requests.get(\"http://books.toscrape.com/\")"
   ]
  },
  {
   "cell_type": "code",
   "execution_count": null,
   "metadata": {},
   "outputs": [],
   "source": [
    "print(pagina_web) # Verificar que el link sea correcto, 200 es una repuesta positiva"
   ]
  },
  {
   "cell_type": "code",
   "execution_count": null,
   "metadata": {},
   "outputs": [],
   "source": [
    "soup = BeautifulSoup(pagina_web.text, \"html.parser\") # A nuestro objeto soup, le mandamos el atributo texto y un parser"
   ]
  },
  {
   "cell_type": "code",
   "execution_count": null,
   "metadata": {},
   "outputs": [],
   "source": [
    "print(soup.prettify())"
   ]
  },
  {
   "cell_type": "code",
   "execution_count": null,
   "metadata": {},
   "outputs": [],
   "source": [
    "titulo_item = soup.find(\"a\")\n",
    "print(titulo_item)"
   ]
  },
  {
   "cell_type": "code",
   "execution_count": null,
   "metadata": {},
   "outputs": [],
   "source": [
    "titulo_items = soup.find_all(\"a\")\n",
    "print(titulo_items)"
   ]
  },
  {
   "cell_type": "code",
   "execution_count": 18,
   "metadata": {},
   "outputs": [
    {
     "data": {
      "text/plain": [
       "['A Light in the Attic',\n",
       " 'Tipping the Velvet',\n",
       " 'Soumission',\n",
       " 'Sharp Objects',\n",
       " 'Sapiens: A Brief History of Humankind',\n",
       " 'The Requiem Red',\n",
       " 'The Dirty Little Secrets of Getting Your Dream Job',\n",
       " 'The Coming Woman: A Novel Based on the Life of the Infamous Feminist, Victoria Woodhull',\n",
       " 'The Boys in the Boat: Nine Americans and Their Epic Quest for Gold at the 1936 Berlin Olympics',\n",
       " 'The Black Maria',\n",
       " 'Starving Hearts (Triangular Trade Trilogy, #1)',\n",
       " \"Shakespeare's Sonnets\",\n",
       " 'Set Me Free',\n",
       " \"Scott Pilgrim's Precious Little Life (Scott Pilgrim #1)\",\n",
       " 'Rip it Up and Start Again',\n",
       " 'Our Band Could Be Your Life: Scenes from the American Indie Underground, 1981-1991',\n",
       " 'Olio',\n",
       " 'Mesaerion: The Best Science Fiction Stories 1800-1849',\n",
       " 'Libertarianism for Beginners',\n",
       " \"It's Only the Himalayas\"]"
      ]
     },
     "execution_count": 18,
     "metadata": {},
     "output_type": "execute_result"
    }
   ],
   "source": [
    "titulos = []\n",
    "titulo_items = soup.find_all(\"h3\") # Filtrando elementos por propiedades, clases, identificadores, etiquetas\n",
    "for items in titulo_items:\n",
    "    titulo = items.a\n",
    "    #print(titulo.attrs)\n",
    "    #print(titulo[\"title\"])\n",
    "    titulos.append(titulo[\"title\"])\n",
    "titulos"
   ]
  },
  {
   "cell_type": "code",
   "execution_count": 19,
   "metadata": {},
   "outputs": [
    {
     "name": "stdout",
     "output_type": "stream",
     "text": [
      "[51.77, 53.74, 50.1, 47.82, 54.23, 22.65, 33.34, 17.93, 22.6, 52.15, 13.99, 20.66, 17.46, 52.29, 35.02, 57.25, 23.88, 37.59, 51.33, 45.17]\n"
     ]
    }
   ],
   "source": [
    "precios = []\n",
    "precio_items = soup.find_all(\"p\", class_= \"price_color\")\n",
    "for item in precio_items:\n",
    "    precio = item.text\n",
    "    precio = float(precio[2:])\n",
    "    precios.append(precio)\n",
    "    \n",
    "print(precios)"
   ]
  },
  {
   "cell_type": "code",
   "execution_count": 20,
   "metadata": {},
   "outputs": [
    {
     "data": {
      "text/plain": [
       "['In stock',\n",
       " 'In stock',\n",
       " 'In stock',\n",
       " 'In stock',\n",
       " 'In stock',\n",
       " 'In stock',\n",
       " 'In stock',\n",
       " 'In stock',\n",
       " 'In stock',\n",
       " 'In stock',\n",
       " 'In stock',\n",
       " 'In stock',\n",
       " 'In stock',\n",
       " 'In stock',\n",
       " 'In stock',\n",
       " 'In stock',\n",
       " 'In stock',\n",
       " 'In stock',\n",
       " 'In stock',\n",
       " 'In stock']"
      ]
     },
     "execution_count": 20,
     "metadata": {},
     "output_type": "execute_result"
    }
   ],
   "source": [
    "existencias = []\n",
    "existencia_items = soup.find_all(\"p\", class_= \"instock availability\")\n",
    "for item in existencia_items:\n",
    "    existencia = item.text\n",
    "    existencia = existencia[15:-6]\n",
    "    existencias.append(existencia)\n",
    "existencias"
   ]
  },
  {
   "cell_type": "code",
   "execution_count": 21,
   "metadata": {},
   "outputs": [
    {
     "data": {
      "text/plain": [
       "['Three',\n",
       " 'One',\n",
       " 'One',\n",
       " 'Four',\n",
       " 'Five',\n",
       " 'One',\n",
       " 'Four',\n",
       " 'Three',\n",
       " 'Four',\n",
       " 'One',\n",
       " 'Two',\n",
       " 'Four',\n",
       " 'Five',\n",
       " 'Five',\n",
       " 'Five',\n",
       " 'Three',\n",
       " 'One',\n",
       " 'One',\n",
       " 'Two',\n",
       " 'Two']"
      ]
     },
     "execution_count": 21,
     "metadata": {},
     "output_type": "execute_result"
    }
   ],
   "source": [
    "ratings = []\n",
    "rating_items = soup.find_all(\"p\", class_ = \"star-rating\")\n",
    "for item in rating_items:\n",
    "    rating = item[\"class\"][1]\n",
    "    ratings.append(rating)\n",
    "    \n",
    "ratings"
   ]
  },
  {
   "cell_type": "code",
   "execution_count": 15,
   "metadata": {},
   "outputs": [
    {
     "data": {
      "text/plain": [
       "['http://books.toscrape.com/media/cache/2c/da/2cdad67c44b002e7ead0cc35693c0e8b.jpg',\n",
       " 'http://books.toscrape.com/media/cache/26/0c/260c6ae16bce31c8f8c95daddd9f4a1c.jpg',\n",
       " 'http://books.toscrape.com/media/cache/3e/ef/3eef99c9d9adef34639f510662022830.jpg',\n",
       " 'http://books.toscrape.com/media/cache/32/51/3251cf3a3412f53f339e42cac2134093.jpg',\n",
       " 'http://books.toscrape.com/media/cache/be/a5/bea5697f2534a2f86a3ef27b5a8c12a6.jpg',\n",
       " 'http://books.toscrape.com/media/cache/68/33/68339b4c9bc034267e1da611ab3b34f8.jpg',\n",
       " 'http://books.toscrape.com/media/cache/92/27/92274a95b7c251fea59a2b8a78275ab4.jpg',\n",
       " 'http://books.toscrape.com/media/cache/3d/54/3d54940e57e662c4dd1f3ff00c78cc64.jpg',\n",
       " 'http://books.toscrape.com/media/cache/66/88/66883b91f6804b2323c8369331cb7dd1.jpg',\n",
       " 'http://books.toscrape.com/media/cache/58/46/5846057e28022268153beff6d352b06c.jpg',\n",
       " 'http://books.toscrape.com/media/cache/be/f4/bef44da28c98f905a3ebec0b87be8530.jpg',\n",
       " 'http://books.toscrape.com/media/cache/10/48/1048f63d3b5061cd2f424d20b3f9b666.jpg',\n",
       " 'http://books.toscrape.com/media/cache/5b/88/5b88c52633f53cacf162c15f4f823153.jpg',\n",
       " 'http://books.toscrape.com/media/cache/94/b1/94b1b8b244bce9677c2f29ccc890d4d2.jpg',\n",
       " 'http://books.toscrape.com/media/cache/81/c4/81c4a973364e17d01f217e1188253d5e.jpg',\n",
       " 'http://books.toscrape.com/media/cache/54/60/54607fe8945897cdcced0044103b10b6.jpg',\n",
       " 'http://books.toscrape.com/media/cache/55/33/553310a7162dfbc2c6d19a84da0df9e1.jpg',\n",
       " 'http://books.toscrape.com/media/cache/09/a3/09a3aef48557576e1a85ba7efea8ecb7.jpg',\n",
       " 'http://books.toscrape.com/media/cache/0b/bc/0bbcd0a6f4bcd81ccb1049a52736406e.jpg',\n",
       " 'http://books.toscrape.com/media/cache/27/a5/27a53d0bb95bdd88288eaf66c9230d7e.jpg']"
      ]
     },
     "execution_count": 15,
     "metadata": {},
     "output_type": "execute_result"
    }
   ],
   "source": [
    "imagenes = []\n",
    "cadena = \"http://books.toscrape.com/\"\n",
    "imagenes_items = soup.find_all(\"img\", class_ = \"thumbnail\")\n",
    "for item in imagenes_items:\n",
    "    imagen = item[\"src\"]\n",
    "    imagenes.append(cadena + imagen)\n",
    "imagenes\n"
   ]
  },
  {
   "cell_type": "code",
   "execution_count": null,
   "metadata": {},
   "outputs": [],
   "source": [
    "pip install pandas"
   ]
  },
  {
   "cell_type": "code",
   "execution_count": 16,
   "metadata": {},
   "outputs": [],
   "source": [
    "import pandas as pd"
   ]
  },
  {
   "cell_type": "code",
   "execution_count": 22,
   "metadata": {},
   "outputs": [
    {
     "data": {
      "text/html": [
       "<div>\n",
       "<style scoped>\n",
       "    .dataframe tbody tr th:only-of-type {\n",
       "        vertical-align: middle;\n",
       "    }\n",
       "\n",
       "    .dataframe tbody tr th {\n",
       "        vertical-align: top;\n",
       "    }\n",
       "\n",
       "    .dataframe thead th {\n",
       "        text-align: right;\n",
       "    }\n",
       "</style>\n",
       "<table border=\"1\" class=\"dataframe\">\n",
       "  <thead>\n",
       "    <tr style=\"text-align: right;\">\n",
       "      <th></th>\n",
       "      <th>Titulo</th>\n",
       "      <th>Precio</th>\n",
       "      <th>Existencia</th>\n",
       "      <th>Ratings</th>\n",
       "      <th>Imagenes</th>\n",
       "    </tr>\n",
       "  </thead>\n",
       "  <tbody>\n",
       "    <tr>\n",
       "      <th>0</th>\n",
       "      <td>A Light in the Attic</td>\n",
       "      <td>51.77</td>\n",
       "      <td>In stock</td>\n",
       "      <td>Three</td>\n",
       "      <td>http://books.toscrape.com/media/cache/2c/da/2c...</td>\n",
       "    </tr>\n",
       "    <tr>\n",
       "      <th>1</th>\n",
       "      <td>Tipping the Velvet</td>\n",
       "      <td>53.74</td>\n",
       "      <td>In stock</td>\n",
       "      <td>One</td>\n",
       "      <td>http://books.toscrape.com/media/cache/26/0c/26...</td>\n",
       "    </tr>\n",
       "    <tr>\n",
       "      <th>2</th>\n",
       "      <td>Soumission</td>\n",
       "      <td>50.10</td>\n",
       "      <td>In stock</td>\n",
       "      <td>One</td>\n",
       "      <td>http://books.toscrape.com/media/cache/3e/ef/3e...</td>\n",
       "    </tr>\n",
       "    <tr>\n",
       "      <th>3</th>\n",
       "      <td>Sharp Objects</td>\n",
       "      <td>47.82</td>\n",
       "      <td>In stock</td>\n",
       "      <td>Four</td>\n",
       "      <td>http://books.toscrape.com/media/cache/32/51/32...</td>\n",
       "    </tr>\n",
       "    <tr>\n",
       "      <th>4</th>\n",
       "      <td>Sapiens: A Brief History of Humankind</td>\n",
       "      <td>54.23</td>\n",
       "      <td>In stock</td>\n",
       "      <td>Five</td>\n",
       "      <td>http://books.toscrape.com/media/cache/be/a5/be...</td>\n",
       "    </tr>\n",
       "    <tr>\n",
       "      <th>5</th>\n",
       "      <td>The Requiem Red</td>\n",
       "      <td>22.65</td>\n",
       "      <td>In stock</td>\n",
       "      <td>One</td>\n",
       "      <td>http://books.toscrape.com/media/cache/68/33/68...</td>\n",
       "    </tr>\n",
       "    <tr>\n",
       "      <th>6</th>\n",
       "      <td>The Dirty Little Secrets of Getting Your Dream...</td>\n",
       "      <td>33.34</td>\n",
       "      <td>In stock</td>\n",
       "      <td>Four</td>\n",
       "      <td>http://books.toscrape.com/media/cache/92/27/92...</td>\n",
       "    </tr>\n",
       "    <tr>\n",
       "      <th>7</th>\n",
       "      <td>The Coming Woman: A Novel Based on the Life of...</td>\n",
       "      <td>17.93</td>\n",
       "      <td>In stock</td>\n",
       "      <td>Three</td>\n",
       "      <td>http://books.toscrape.com/media/cache/3d/54/3d...</td>\n",
       "    </tr>\n",
       "    <tr>\n",
       "      <th>8</th>\n",
       "      <td>The Boys in the Boat: Nine Americans and Their...</td>\n",
       "      <td>22.60</td>\n",
       "      <td>In stock</td>\n",
       "      <td>Four</td>\n",
       "      <td>http://books.toscrape.com/media/cache/66/88/66...</td>\n",
       "    </tr>\n",
       "    <tr>\n",
       "      <th>9</th>\n",
       "      <td>The Black Maria</td>\n",
       "      <td>52.15</td>\n",
       "      <td>In stock</td>\n",
       "      <td>One</td>\n",
       "      <td>http://books.toscrape.com/media/cache/58/46/58...</td>\n",
       "    </tr>\n",
       "    <tr>\n",
       "      <th>10</th>\n",
       "      <td>Starving Hearts (Triangular Trade Trilogy, #1)</td>\n",
       "      <td>13.99</td>\n",
       "      <td>In stock</td>\n",
       "      <td>Two</td>\n",
       "      <td>http://books.toscrape.com/media/cache/be/f4/be...</td>\n",
       "    </tr>\n",
       "    <tr>\n",
       "      <th>11</th>\n",
       "      <td>Shakespeare's Sonnets</td>\n",
       "      <td>20.66</td>\n",
       "      <td>In stock</td>\n",
       "      <td>Four</td>\n",
       "      <td>http://books.toscrape.com/media/cache/10/48/10...</td>\n",
       "    </tr>\n",
       "    <tr>\n",
       "      <th>12</th>\n",
       "      <td>Set Me Free</td>\n",
       "      <td>17.46</td>\n",
       "      <td>In stock</td>\n",
       "      <td>Five</td>\n",
       "      <td>http://books.toscrape.com/media/cache/5b/88/5b...</td>\n",
       "    </tr>\n",
       "    <tr>\n",
       "      <th>13</th>\n",
       "      <td>Scott Pilgrim's Precious Little Life (Scott Pi...</td>\n",
       "      <td>52.29</td>\n",
       "      <td>In stock</td>\n",
       "      <td>Five</td>\n",
       "      <td>http://books.toscrape.com/media/cache/94/b1/94...</td>\n",
       "    </tr>\n",
       "    <tr>\n",
       "      <th>14</th>\n",
       "      <td>Rip it Up and Start Again</td>\n",
       "      <td>35.02</td>\n",
       "      <td>In stock</td>\n",
       "      <td>Five</td>\n",
       "      <td>http://books.toscrape.com/media/cache/81/c4/81...</td>\n",
       "    </tr>\n",
       "    <tr>\n",
       "      <th>15</th>\n",
       "      <td>Our Band Could Be Your Life: Scenes from the A...</td>\n",
       "      <td>57.25</td>\n",
       "      <td>In stock</td>\n",
       "      <td>Three</td>\n",
       "      <td>http://books.toscrape.com/media/cache/54/60/54...</td>\n",
       "    </tr>\n",
       "    <tr>\n",
       "      <th>16</th>\n",
       "      <td>Olio</td>\n",
       "      <td>23.88</td>\n",
       "      <td>In stock</td>\n",
       "      <td>One</td>\n",
       "      <td>http://books.toscrape.com/media/cache/55/33/55...</td>\n",
       "    </tr>\n",
       "    <tr>\n",
       "      <th>17</th>\n",
       "      <td>Mesaerion: The Best Science Fiction Stories 18...</td>\n",
       "      <td>37.59</td>\n",
       "      <td>In stock</td>\n",
       "      <td>One</td>\n",
       "      <td>http://books.toscrape.com/media/cache/09/a3/09...</td>\n",
       "    </tr>\n",
       "    <tr>\n",
       "      <th>18</th>\n",
       "      <td>Libertarianism for Beginners</td>\n",
       "      <td>51.33</td>\n",
       "      <td>In stock</td>\n",
       "      <td>Two</td>\n",
       "      <td>http://books.toscrape.com/media/cache/0b/bc/0b...</td>\n",
       "    </tr>\n",
       "    <tr>\n",
       "      <th>19</th>\n",
       "      <td>It's Only the Himalayas</td>\n",
       "      <td>45.17</td>\n",
       "      <td>In stock</td>\n",
       "      <td>Two</td>\n",
       "      <td>http://books.toscrape.com/media/cache/27/a5/27...</td>\n",
       "    </tr>\n",
       "  </tbody>\n",
       "</table>\n",
       "</div>"
      ],
      "text/plain": [
       "                                               Titulo  Precio Existencia  \\\n",
       "0                                A Light in the Attic   51.77   In stock   \n",
       "1                                  Tipping the Velvet   53.74   In stock   \n",
       "2                                          Soumission   50.10   In stock   \n",
       "3                                       Sharp Objects   47.82   In stock   \n",
       "4               Sapiens: A Brief History of Humankind   54.23   In stock   \n",
       "5                                     The Requiem Red   22.65   In stock   \n",
       "6   The Dirty Little Secrets of Getting Your Dream...   33.34   In stock   \n",
       "7   The Coming Woman: A Novel Based on the Life of...   17.93   In stock   \n",
       "8   The Boys in the Boat: Nine Americans and Their...   22.60   In stock   \n",
       "9                                     The Black Maria   52.15   In stock   \n",
       "10     Starving Hearts (Triangular Trade Trilogy, #1)   13.99   In stock   \n",
       "11                              Shakespeare's Sonnets   20.66   In stock   \n",
       "12                                        Set Me Free   17.46   In stock   \n",
       "13  Scott Pilgrim's Precious Little Life (Scott Pi...   52.29   In stock   \n",
       "14                          Rip it Up and Start Again   35.02   In stock   \n",
       "15  Our Band Could Be Your Life: Scenes from the A...   57.25   In stock   \n",
       "16                                               Olio   23.88   In stock   \n",
       "17  Mesaerion: The Best Science Fiction Stories 18...   37.59   In stock   \n",
       "18                       Libertarianism for Beginners   51.33   In stock   \n",
       "19                            It's Only the Himalayas   45.17   In stock   \n",
       "\n",
       "   Ratings                                           Imagenes  \n",
       "0    Three  http://books.toscrape.com/media/cache/2c/da/2c...  \n",
       "1      One  http://books.toscrape.com/media/cache/26/0c/26...  \n",
       "2      One  http://books.toscrape.com/media/cache/3e/ef/3e...  \n",
       "3     Four  http://books.toscrape.com/media/cache/32/51/32...  \n",
       "4     Five  http://books.toscrape.com/media/cache/be/a5/be...  \n",
       "5      One  http://books.toscrape.com/media/cache/68/33/68...  \n",
       "6     Four  http://books.toscrape.com/media/cache/92/27/92...  \n",
       "7    Three  http://books.toscrape.com/media/cache/3d/54/3d...  \n",
       "8     Four  http://books.toscrape.com/media/cache/66/88/66...  \n",
       "9      One  http://books.toscrape.com/media/cache/58/46/58...  \n",
       "10     Two  http://books.toscrape.com/media/cache/be/f4/be...  \n",
       "11    Four  http://books.toscrape.com/media/cache/10/48/10...  \n",
       "12    Five  http://books.toscrape.com/media/cache/5b/88/5b...  \n",
       "13    Five  http://books.toscrape.com/media/cache/94/b1/94...  \n",
       "14    Five  http://books.toscrape.com/media/cache/81/c4/81...  \n",
       "15   Three  http://books.toscrape.com/media/cache/54/60/54...  \n",
       "16     One  http://books.toscrape.com/media/cache/55/33/55...  \n",
       "17     One  http://books.toscrape.com/media/cache/09/a3/09...  \n",
       "18     Two  http://books.toscrape.com/media/cache/0b/bc/0b...  \n",
       "19     Two  http://books.toscrape.com/media/cache/27/a5/27...  "
      ]
     },
     "execution_count": 22,
     "metadata": {},
     "output_type": "execute_result"
    }
   ],
   "source": [
    "data = {\"Titulo\" : titulos,\n",
    "        \"Precio\" : precios,\n",
    "        \"Existencia\" : existencias,\n",
    "        \"Ratings\" : ratings,\n",
    "        \"Imagenes\" : imagenes}\n",
    "\n",
    "dataframe = pd.DataFrame(data)\n",
    "dataframe"
   ]
  },
  {
   "cell_type": "markdown",
   "metadata": {},
   "source": [
    "## Paginación"
   ]
  },
  {
   "cell_type": "code",
   "execution_count": null,
   "metadata": {},
   "outputs": [],
   "source": []
  },
  {
   "cell_type": "markdown",
   "metadata": {},
   "source": [
    "-----------------------------------------------------------------------------------------------------------------------------"
   ]
  },
  {
   "cell_type": "code",
   "execution_count": null,
   "metadata": {},
   "outputs": [],
   "source": [
    "pagina_web = requests.get(\"https://www.cyberpuerta.mx/\")"
   ]
  },
  {
   "cell_type": "code",
   "execution_count": null,
   "metadata": {},
   "outputs": [],
   "source": [
    "soup = BeautifulSoup(pagina_web.text, \"html.parser\") "
   ]
  },
  {
   "cell_type": "code",
   "execution_count": null,
   "metadata": {},
   "outputs": [],
   "source": [
    "print(soup.prettify())"
   ]
  },
  {
   "cell_type": "code",
   "execution_count": null,
   "metadata": {},
   "outputs": [],
   "source": [
    "images_item = soup.find_all(\"div\", class_ = \"cs-image\")\n",
    "for item in images_item:\n",
    "    \n",
    "print(images_item)"
   ]
  }
 ],
 "metadata": {
  "kernelspec": {
   "display_name": "Python 3",
   "language": "python",
   "name": "python3"
  },
  "language_info": {
   "codemirror_mode": {
    "name": "ipython",
    "version": 3
   },
   "file_extension": ".py",
   "mimetype": "text/x-python",
   "name": "python",
   "nbconvert_exporter": "python",
   "pygments_lexer": "ipython3",
   "version": "3.9.2"
  },
  "orig_nbformat": 4
 },
 "nbformat": 4,
 "nbformat_minor": 2
}
