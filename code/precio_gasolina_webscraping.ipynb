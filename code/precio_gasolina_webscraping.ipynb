{
 "cells": [
  {
   "cell_type": "markdown",
   "metadata": {},
   "source": [
    "En mi tabla voy a guardar:\n",
    "1.- Precio del gas por dia\n",
    "2.- Promedio Nacional\n",
    "3.- Fecha"
   ]
  },
  {
   "cell_type": "code",
   "execution_count": 3,
   "metadata": {},
   "outputs": [],
   "source": [
    "url = \"https://www.gasolinamx.com/gas/precio-gas-\"\n",
    "import requests\n",
    "from bs4 import BeautifulSoup\n",
    "import re\n",
    "import datetime\n",
    "import pandas as pd"
   ]
  },
  {
   "cell_type": "code",
   "execution_count": 4,
   "metadata": {},
   "outputs": [
    {
     "data": {
      "text/plain": [
       "32"
      ]
     },
     "execution_count": 4,
     "metadata": {},
     "output_type": "execute_result"
    }
   ],
   "source": [
    "estados = ['aguascalientes', \n",
    "           'baja-california-norte',\n",
    "           'baja-california-sur',\n",
    "           'campeche',\n",
    "           'chiapas',\n",
    "           'chihuahua',\n",
    "           'cdmx',\n",
    "           'coahuila',\n",
    "           'colima',\n",
    "           'durango',\n",
    "           'estado-de-mexico',\n",
    "           'guanajuato',\n",
    "           'guerrero',\n",
    "           'hidalgo',\n",
    "           'jalisco',\n",
    "           'michoacan',\n",
    "           'morelos',\n",
    "           'nayarit',\n",
    "           'nuevo_leon',\n",
    "           'oaxaca',\n",
    "           'puebla',\n",
    "           'queretaro',\n",
    "           'quintana-roo',\n",
    "           'san-luis-potosi-slp',\n",
    "           'sinaloa',\n",
    "           'sonora',\n",
    "           'tabasco',\n",
    "           'tamaulipas',\n",
    "           'tlaxcala',\n",
    "           'veracruz',\n",
    "           'yucatan',\n",
    "           'zacatecas']\n",
    "len(estados)"
   ]
  },
  {
   "cell_type": "code",
   "execution_count": 5,
   "metadata": {},
   "outputs": [],
   "source": [
    "# Peticion HTTP\n",
    "pagina_web = requests.get(url + estados[1])\n",
    "soup = BeautifulSoup(pagina_web.text, 'html.parser')"
   ]
  },
  {
   "cell_type": "code",
   "execution_count": 8,
   "metadata": {},
   "outputs": [
    {
     "data": {
      "text/plain": [
       "[8.68]"
      ]
     },
     "execution_count": 8,
     "metadata": {},
     "output_type": "execute_result"
    }
   ],
   "source": [
    "litros = []\n",
    "estado = []\n",
    "litro = r\"El precio por litro de gas en (\\w+) es de \\$(\\d+\\.\\d+)\"\n",
    "\n",
    "concuerdalitro = re.search(litro,soup.get_text())#pagina_web.text)\n",
    "estado = concuerdalitro.group(1)\n",
    "estados.append(estado)\n",
    "preciolitro = concuerdalitro.group(2)\n",
    "litros.append(float(preciolitro))\n",
    "litros"
   ]
  },
  {
   "cell_type": "code",
   "execution_count": 76,
   "metadata": {},
   "outputs": [
    {
     "data": {
      "text/plain": [
       "'16.07'"
      ]
     },
     "execution_count": 76,
     "metadata": {},
     "output_type": "execute_result"
    }
   ],
   "source": [
    "kilos = []\n",
    "kilo = r\"El precio por kilo de gas en (\\w+) es de \\$(\\d+\\.\\d+)\"\n",
    "\n",
    "concuerdakilo = re.search(kilo, pagina_web.text)\n",
    "preciokilo = concuerdakilo.group(2)\n",
    "kilos.append(float(preciokilo))"
   ]
  },
  {
   "cell_type": "code",
   "execution_count": 77,
   "metadata": {},
   "outputs": [],
   "source": [
    "tanques20kg = []\n",
    "tanque20kg = r\"El tanque de 20kg vale \\$(\\d+\\.\\d+)\"\n",
    "\n",
    "concuerdatanque20gk = re.search(tanque20kg, pagina_web.text)\n",
    "preciotanque20kg = concuerdatanque20gk.group(1)\n",
    "tanques20kg.append(float(preciotanque20kg))"
   ]
  },
  {
   "cell_type": "code",
   "execution_count": 57,
   "metadata": {},
   "outputs": [],
   "source": [
    "fecha = datetime.datetime.now().strftime(\"%d/%m/%Y\")"
   ]
  },
  {
   "cell_type": "code",
   "execution_count": 78,
   "metadata": {},
   "outputs": [],
   "source": [
    "data = []\n",
    "data.append({\n",
    "            \"Estado\": estado,\n",
    "            \"Fecha\": fecha,\n",
    "            \"precio_litros\": litros[0],\n",
    "            \"precio_kilos\": kilos[0],\n",
    "            \"precio_tanque20kg\": tanques20kg[0]\n",
    "        })"
   ]
  },
  {
   "cell_type": "code",
   "execution_count": 79,
   "metadata": {},
   "outputs": [
    {
     "data": {
      "text/html": [
       "<div>\n",
       "<style scoped>\n",
       "    .dataframe tbody tr th:only-of-type {\n",
       "        vertical-align: middle;\n",
       "    }\n",
       "\n",
       "    .dataframe tbody tr th {\n",
       "        vertical-align: top;\n",
       "    }\n",
       "\n",
       "    .dataframe thead th {\n",
       "        text-align: right;\n",
       "    }\n",
       "</style>\n",
       "<table border=\"1\" class=\"dataframe\">\n",
       "  <thead>\n",
       "    <tr style=\"text-align: right;\">\n",
       "      <th></th>\n",
       "      <th>Estado</th>\n",
       "      <th>Fecha</th>\n",
       "      <th>precio_litros</th>\n",
       "      <th>precio_kilos</th>\n",
       "      <th>precio_tanque20kg</th>\n",
       "    </tr>\n",
       "  </thead>\n",
       "  <tbody>\n",
       "    <tr>\n",
       "      <th>0</th>\n",
       "      <td>Aguascalientes</td>\n",
       "      <td>25/07/2023</td>\n",
       "      <td>8.68</td>\n",
       "      <td>16.07</td>\n",
       "      <td>321.4</td>\n",
       "    </tr>\n",
       "  </tbody>\n",
       "</table>\n",
       "</div>"
      ],
      "text/plain": [
       "           Estado       Fecha precio_litros  precio_kilos  precio_tanque20kg\n",
       "0  Aguascalientes  25/07/2023          8.68         16.07              321.4"
      ]
     },
     "execution_count": 79,
     "metadata": {},
     "output_type": "execute_result"
    }
   ],
   "source": [
    "dataframe = pd.DataFrame(data)\n",
    "dataframe"
   ]
  },
  {
   "cell_type": "markdown",
   "metadata": {},
   "source": [
    "Ya funciona para un solo estado, tengo que hacer una funcion para correr el webscrap en todos los estados y agregarlos a la misma tabla"
   ]
  },
  {
   "cell_type": "code",
   "execution_count": null,
   "metadata": {},
   "outputs": [],
   "source": [
    "def obtener_contenido_papgina(url):\n",
    "    pagina = requests.get(url)\n",
    "    return pagina.content"
   ]
  },
  {
   "cell_type": "code",
   "execution_count": null,
   "metadata": {},
   "outputs": [],
   "source": [
    "def crear_soup(html):\n",
    "    return BeautifulSoup(html, \"html.parser\")"
   ]
  },
  {
   "cell_type": "code",
   "execution_count": null,
   "metadata": {},
   "outputs": [],
   "source": [
    "data = []\n",
    "\n",
    "def procesar_pagina(soup):\n",
    "    "
   ]
  }
 ],
 "metadata": {
  "kernelspec": {
   "display_name": "Python 3",
   "language": "python",
   "name": "python3"
  },
  "language_info": {
   "codemirror_mode": {
    "name": "ipython",
    "version": 3
   },
   "file_extension": ".py",
   "mimetype": "text/x-python",
   "name": "python",
   "nbconvert_exporter": "python",
   "pygments_lexer": "ipython3",
   "version": "3.10.5"
  },
  "orig_nbformat": 4
 },
 "nbformat": 4,
 "nbformat_minor": 2
}
