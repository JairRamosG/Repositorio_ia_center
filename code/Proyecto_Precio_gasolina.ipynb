{
 "cells": [
  {
   "cell_type": "code",
   "execution_count": 54,
   "metadata": {},
   "outputs": [],
   "source": [
    "import requests\n",
    "from bs4 import BeautifulSoup\n",
    "import re\n",
    "import datetime\n",
    "import pandas as pd\n",
    "import os"
   ]
  },
  {
   "cell_type": "code",
   "execution_count": 55,
   "metadata": {},
   "outputs": [],
   "source": [
    "estados = ['aguascalientes', 'baja-california-norte','baja-california-sur','campeche','chiapas','chihuahua','cdmx','coahuila-de-zaragoza',\n",
    "           'colima','durango','estado-de-mexico','guanajuato','guerrero', 'hidalgo','jalisco','michoacan','morelos','nayarit',\n",
    "           'nuevo-leon','oaxaca', 'puebla','queretaro','quintana-roo','san-luis-potosi-slp','sinaloa','sonora','tabasco','tamaulipas',\n",
    "           'tlaxcala','veracruz','yucatan','zacatecas']\n",
    "\n",
    "estados_expresion = ['Aguascalientes', 'Baja California Norte','Baja California Sur','Campeche','Chiapas','Chihuahua','Ciudad de México - CDMX',\n",
    "                    'Coahuila','Colima','Durango','Estado de México - EDOMEX','Guanajuato','Guerrero','Hidalgo','Jalisco',\n",
    "                    'Michoacán','Morelos','Nayarit','Nuevo León','Oaxaca','Puebla','Querétaro','Quintana Roo','San Luis Potosí - SLP',\n",
    "                    'Sinaloa','Sonora','Tabasco','Tamaulipas','Tlaxcala','Veracruz','Yucatán','Zacatecas']\n",
    "\n",
    "data = []"
   ]
  },
  {
   "cell_type": "code",
   "execution_count": 56,
   "metadata": {},
   "outputs": [],
   "source": [
    "def obtener_contenido_pagina(url):\n",
    "    pagina = requests.get(url)\n",
    "    return pagina.content"
   ]
  },
  {
   "cell_type": "code",
   "execution_count": 57,
   "metadata": {},
   "outputs": [],
   "source": [
    "def crear_soup(html):\n",
    "    return BeautifulSoup(html, \"html.parser\")"
   ]
  },
  {
   "cell_type": "code",
   "execution_count": 58,
   "metadata": {},
   "outputs": [],
   "source": [
    "def procesar_pagina(soup, estado, fecha):\n",
    "\n",
    "    litros = []\n",
    "    kilos = []\n",
    "    tanques20kg = []\n",
    "    \n",
    "    patron_estados =  \"|\".join(re.escape(estado) for estado in estados_expresion)\n",
    "    patron_precio = r\"\\$(\\d+\\.\\d+)\"\n",
    "\n",
    "    litro =  r\"El precio por litro de gas en ({}) es de {}\".format(patron_estados, patron_precio)\n",
    "    concuerdalitro = re.search(litro, soup.get_text())\n",
    "    preciolitro = concuerdalitro.group(2)\n",
    "    litros.append(float(preciolitro))\n",
    "\n",
    "\n",
    "    kilo = r\"El precio por kilo de gas en ({}) es de {}\".format(patron_estados, patron_precio)\n",
    "    concuerdakilo = re.search(kilo, soup.get_text())\n",
    "    preciokilo = concuerdakilo.group(2)\n",
    "    kilos.append(float(preciokilo))\n",
    "\n",
    "    tanque20kg = r\"El tanque de 20kg vale \\$(\\d+\\.\\d+)\"\n",
    "    concuerdatanque20gk = re.search(tanque20kg, soup.get_text())\n",
    "    preciotanque20kg = concuerdatanque20gk.group(1)\n",
    "    tanques20kg.append(float(preciotanque20kg))\n",
    "\n",
    "    #fecha = datetime.datetime.now().strftime(\"%d/%m/%Y\")\n",
    "    \n",
    "    data.append({\n",
    "            \"Estado\": estado,\n",
    "            \"Fecha\": fecha,\n",
    "            \"precio_litros\": litros[0],\n",
    "            \"precio_kilos\": kilos[0],\n",
    "            \"precio_tanque20kg\": tanques20kg[0]\n",
    "        }) "
   ]
  },
  {
   "cell_type": "code",
   "execution_count": 64,
   "metadata": {},
   "outputs": [],
   "source": [
    "def manejar_paginacion(url_base):\n",
    "   fecha = datetime.datetime.now().strftime(\"%d-%m-%Y\")\n",
    "   for estado in estados:\n",
    "      url = url_base + estado\n",
    "      contenido_pagina = obtener_contenido_pagina(url)\n",
    "      soup = crear_soup(contenido_pagina)\n",
    "      procesar_pagina(soup, estado, fecha)\n",
    "   \n",
    "   dataframe = pd.DataFrame(data)\n",
    "   dataframe.to_csv(\"../csv\" + \"/base.csv\", index=False)"
   ]
  },
  {
   "cell_type": "code",
   "execution_count": 63,
   "metadata": {},
   "outputs": [],
   "source": [
    "url_base = \"https://www.gasolinamx.com/gas/precio-gas-\"\n",
    "manejar_paginacion(url_base)"
   ]
  }
 ],
 "metadata": {
  "kernelspec": {
   "display_name": "Python 3",
   "language": "python",
   "name": "python3"
  },
  "language_info": {
   "codemirror_mode": {
    "name": "ipython",
    "version": 3
   },
   "file_extension": ".py",
   "mimetype": "text/x-python",
   "name": "python",
   "nbconvert_exporter": "python",
   "pygments_lexer": "ipython3",
   "version": "3.10.5"
  },
  "orig_nbformat": 4
 },
 "nbformat": 4,
 "nbformat_minor": 2
}
