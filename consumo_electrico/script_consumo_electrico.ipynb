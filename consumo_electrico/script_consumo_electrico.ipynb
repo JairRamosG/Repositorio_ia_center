{
 "cells": [
  {
   "cell_type": "code",
   "execution_count": 1,
   "metadata": {},
   "outputs": [],
   "source": [
    "import requests\n",
    "from bs4 import BeautifulSoup\n",
    "import pandas as pd\n",
    "import datetime\n",
    "import os"
   ]
  },
  {
   "cell_type": "code",
   "execution_count": 2,
   "metadata": {},
   "outputs": [],
   "source": [
    "url = \"https://www.cenace.gob.mx/graficademanda.aspx\"\n",
    "clave_region = [\"ccbc\", \"ccbcsur\", \"cccentral\", \"ccnoreste\", \"ccnoroeste\", \n",
    "                \"ccnorte\", \"ccoccidental\", \"ccoriental\", \"ccpeninsular\", \"sinacional\"]\n",
    "datos = []\n",
    "fecha = datetime.datetime.now().strftime(\"%d-%m-%Y %H_%M_%S\")"
   ]
  },
  {
   "cell_type": "code",
   "execution_count": 3,
   "metadata": {},
   "outputs": [],
   "source": [
    "def obtener_contenido(url):\n",
    "    pagina_web = requests.get(url)\n",
    "    return pagina_web.content"
   ]
  },
  {
   "cell_type": "code",
   "execution_count": 4,
   "metadata": {},
   "outputs": [],
   "source": [
    "def genera_soup(contenido_web):\n",
    "    return BeautifulSoup(contenido_web, \"html.parser\")"
   ]
  },
  {
   "cell_type": "code",
   "execution_count": 5,
   "metadata": {},
   "outputs": [],
   "source": [
    "def extraccion_pagina(soup):\n",
    "          \n",
    "    for clave in clave_region:\n",
    "        \n",
    "      titulo_region = soup.find(\"li\", class_ = clave)\n",
    "      region = titulo_region.select_one(\".titlex\").text\n",
    "\n",
    "      p_tags = soup.select(\"li.\" + clave + \" p\") # Selecciono las 3 etiquetas p\n",
    "      for p_tag in p_tags:\n",
    "            if \"Demanda Neta:\" in p_tag.text:\n",
    "                 demanda_neta = float(p_tag.select_one(\".bold\").text.replace(\",\",\"\")[:-3]) \n",
    "            elif \"Generación Neta:\" in p_tag.text:\n",
    "                 generacion_neta = float(p_tag.select_one(\".bold\").text.replace(\",\",\"\")[:-3])\n",
    "            elif \"Pronóstico Neto:\" in p_tag.text:\n",
    "                 pronostico_neto = p_tag.select_one(\".bold\").text.replace(\",\",\"\")[:-3]     \n",
    "               \n",
    "      datos.append({\n",
    "              \"Fecha\" : fecha,\n",
    "              \"Región\": region,\n",
    "              \"Generación Neta MW\" : generacion_neta,\n",
    "              \"Demanda Neta MW\" : demanda_neta,\n",
    "              \"Diferencia MW\" : generacion_neta - demanda_neta\n",
    "              })\n",
    "      \n",
    "    return pd.DataFrame(datos)\n",
    "    "
   ]
  },
  {
   "cell_type": "code",
   "execution_count": 6,
   "metadata": {},
   "outputs": [],
   "source": [
    "def actualizar_datos(df):\n",
    "\n",
    "    documentos = os.listdir(\"../csv_se\")\n",
    "    n_update = int(documentos[-1].split()[0])\n",
    "    new_n_update = str(n_update + 1)\n",
    "    ultimo = documentos[-1]\n",
    "    fecha_actual = fecha\n",
    "\n",
    "    df_base = pd.read_csv(\"../csv_se/\" + ultimo)\n",
    "    df_nuevo = pd.concat([df_base,df], ignore_index=True)\n",
    "\n",
    "    columnas = [\"Fecha\", \"Región\", \"Generación Neta MW\", \"Demanda Neta MW\", \"Diferencia MW\"]\n",
    "    df_nuevo = df_nuevo[columnas]\n",
    "    df_nuevo.to_csv(\"../csv_se/\" + new_n_update + \" \" + fecha_actual + \".csv\")"
   ]
  },
  {
   "cell_type": "code",
   "execution_count": 7,
   "metadata": {},
   "outputs": [],
   "source": [
    "def proceso_datos(url):\n",
    "    contenido_web = obtener_contenido(url)\n",
    "    soup = genera_soup(contenido_web)\n",
    "    df = extraccion_pagina(soup)\n",
    "    actualizar_datos(df)    "
   ]
  },
  {
   "cell_type": "code",
   "execution_count": 8,
   "metadata": {},
   "outputs": [],
   "source": [
    "proceso_datos(url)"
   ]
  }
 ],
 "metadata": {
  "kernelspec": {
   "display_name": "Python 3",
   "language": "python",
   "name": "python3"
  },
  "language_info": {
   "codemirror_mode": {
    "name": "ipython",
    "version": 3
   },
   "file_extension": ".py",
   "mimetype": "text/x-python",
   "name": "python",
   "nbconvert_exporter": "python",
   "pygments_lexer": "ipython3",
   "version": "3.9.2"
  },
  "orig_nbformat": 4
 },
 "nbformat": 4,
 "nbformat_minor": 2
}
