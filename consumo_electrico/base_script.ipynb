{
 "cells": [
  {
   "cell_type": "code",
   "execution_count": 99,
   "metadata": {},
   "outputs": [],
   "source": [
    "import requests\n",
    "from bs4 import BeautifulSoup\n",
    "import datetime\n",
    "import pandas as pd"
   ]
  },
  {
   "cell_type": "code",
   "execution_count": 100,
   "metadata": {},
   "outputs": [
    {
     "name": "stdout",
     "output_type": "stream",
     "text": [
      "<Response [200]>\n"
     ]
    }
   ],
   "source": [
    "pagina_web = requests.get(\"https://www.cenace.gob.mx/graficademanda.aspx\")\n",
    "print(pagina_web) # 200 respuesta positiva"
   ]
  },
  {
   "cell_type": "code",
   "execution_count": 101,
   "metadata": {},
   "outputs": [],
   "source": [
    "soup = BeautifulSoup(pagina_web.text, \"html.parser\")"
   ]
  },
  {
   "cell_type": "code",
   "execution_count": 102,
   "metadata": {},
   "outputs": [],
   "source": [
    "datos = []\n",
    "clave_region = [\"ccbc\", \"ccbcsur\", \"cccentral\", \"ccnoreste\", \"ccnoroeste\", \n",
    "                \"ccnorte\", \"ccoccidental\", \"ccoriental\", \"ccpeninsular\", \"sinacional\"]"
   ]
  },
  {
   "cell_type": "code",
   "execution_count": 103,
   "metadata": {},
   "outputs": [
    {
     "data": {
      "text/plain": [
       "<li class=\"ccbcsur\">\n",
       "<span class=\"titlex\">Baja California Sur</span>\n",
       "<p>\n",
       "                                Demanda Neta:\n",
       "                                <span class=\"bold\" id=\"ContentPlaceHolder1_demandaBCS\">597 MW</span>\n",
       "</p>\n",
       "<p>\n",
       "                                Generación Neta:\n",
       "                                <span class=\"bold\" id=\"ContentPlaceHolder1_generacionBCS\">610 MW</span>\n",
       "</p>\n",
       "<p>\n",
       "                                Pronóstico Neto:\n",
       "                                <span class=\"bold\" id=\"ContentPlaceHolder1_enlaceBCS\">591 MW</span>\n",
       "</p>\n",
       "<p style=\"font-size: 11px; margin-top:10px\">\n",
       "<span class=\"bold\" id=\"ContentPlaceHolder1_datetimeBCS\">01/08/2023 11:53:00 p. m.</span>\n",
       "</p>\n",
       "</li>"
      ]
     },
     "execution_count": 103,
     "metadata": {},
     "output_type": "execute_result"
    }
   ],
   "source": [
    "region = \"ccbcsur\"\n",
    "datos_region = soup.find(\"li\", class_ = region)\n",
    "datos_region"
   ]
  },
  {
   "cell_type": "code",
   "execution_count": 104,
   "metadata": {},
   "outputs": [
    {
     "name": "stdout",
     "output_type": "stream",
     "text": [
      "ccbc\n",
      "ccbcsur\n",
      "cccentral\n",
      "ccnoreste\n",
      "ccnoroeste\n",
      "ccnorte\n",
      "ccoccidental\n",
      "ccoriental\n",
      "ccpeninsular\n",
      "sinacional\n"
     ]
    }
   ],
   "source": [
    "for clave in clave_region:\n",
    "    print(clave)"
   ]
  },
  {
   "cell_type": "code",
   "execution_count": 105,
   "metadata": {},
   "outputs": [
    {
     "data": {
      "text/html": [
       "<div>\n",
       "<style scoped>\n",
       "    .dataframe tbody tr th:only-of-type {\n",
       "        vertical-align: middle;\n",
       "    }\n",
       "\n",
       "    .dataframe tbody tr th {\n",
       "        vertical-align: top;\n",
       "    }\n",
       "\n",
       "    .dataframe thead th {\n",
       "        text-align: right;\n",
       "    }\n",
       "</style>\n",
       "<table border=\"1\" class=\"dataframe\">\n",
       "  <thead>\n",
       "    <tr style=\"text-align: right;\">\n",
       "      <th></th>\n",
       "      <th>Fecha</th>\n",
       "      <th>Región</th>\n",
       "      <th>Generación Neta MW</th>\n",
       "      <th>Demanda Neta MW</th>\n",
       "      <th>Diferencia MW</th>\n",
       "      <th>Pronóstico Neto MW</th>\n",
       "    </tr>\n",
       "  </thead>\n",
       "  <tbody>\n",
       "    <tr>\n",
       "      <th>0</th>\n",
       "      <td>01-08-2023 23:54:47</td>\n",
       "      <td>Baja California</td>\n",
       "      <td>2506.0</td>\n",
       "      <td>2516.0</td>\n",
       "      <td>-10.0</td>\n",
       "      <td>2951</td>\n",
       "    </tr>\n",
       "    <tr>\n",
       "      <th>1</th>\n",
       "      <td>01-08-2023 23:54:47</td>\n",
       "      <td>Baja California Sur</td>\n",
       "      <td>610.0</td>\n",
       "      <td>597.0</td>\n",
       "      <td>13.0</td>\n",
       "      <td>591</td>\n",
       "    </tr>\n",
       "    <tr>\n",
       "      <th>2</th>\n",
       "      <td>01-08-2023 23:54:47</td>\n",
       "      <td>CENTRAL</td>\n",
       "      <td>4191.0</td>\n",
       "      <td>6228.0</td>\n",
       "      <td>-2037.0</td>\n",
       "      <td>6988</td>\n",
       "    </tr>\n",
       "    <tr>\n",
       "      <th>3</th>\n",
       "      <td>01-08-2023 23:54:47</td>\n",
       "      <td>NORESTE</td>\n",
       "      <td>12542.0</td>\n",
       "      <td>10014.0</td>\n",
       "      <td>2528.0</td>\n",
       "      <td>9811</td>\n",
       "    </tr>\n",
       "    <tr>\n",
       "      <th>4</th>\n",
       "      <td>01-08-2023 23:54:47</td>\n",
       "      <td>NOROESTE</td>\n",
       "      <td>4771.0</td>\n",
       "      <td>4884.0</td>\n",
       "      <td>-113.0</td>\n",
       "      <td>5056</td>\n",
       "    </tr>\n",
       "    <tr>\n",
       "      <th>5</th>\n",
       "      <td>01-08-2023 23:54:47</td>\n",
       "      <td>NORTE</td>\n",
       "      <td>4063.0</td>\n",
       "      <td>4525.0</td>\n",
       "      <td>-462.0</td>\n",
       "      <td>4929</td>\n",
       "    </tr>\n",
       "    <tr>\n",
       "      <th>6</th>\n",
       "      <td>01-08-2023 23:54:47</td>\n",
       "      <td>OCCIDENTAL</td>\n",
       "      <td>6264.0</td>\n",
       "      <td>9091.0</td>\n",
       "      <td>-2827.0</td>\n",
       "      <td>9411</td>\n",
       "    </tr>\n",
       "    <tr>\n",
       "      <th>7</th>\n",
       "      <td>01-08-2023 23:54:47</td>\n",
       "      <td>ORIENTAL</td>\n",
       "      <td>10749.0</td>\n",
       "      <td>7043.0</td>\n",
       "      <td>3706.0</td>\n",
       "      <td>7521</td>\n",
       "    </tr>\n",
       "    <tr>\n",
       "      <th>8</th>\n",
       "      <td>01-08-2023 23:54:47</td>\n",
       "      <td>PENINSULAR</td>\n",
       "      <td>1358.0</td>\n",
       "      <td>2309.0</td>\n",
       "      <td>-951.0</td>\n",
       "      <td>2536</td>\n",
       "    </tr>\n",
       "    <tr>\n",
       "      <th>9</th>\n",
       "      <td>01-08-2023 23:54:47</td>\n",
       "      <td>S.I. NACIONAL</td>\n",
       "      <td>43933.0</td>\n",
       "      <td>44060.0</td>\n",
       "      <td>-127.0</td>\n",
       "      <td>00</td>\n",
       "    </tr>\n",
       "  </tbody>\n",
       "</table>\n",
       "</div>"
      ],
      "text/plain": [
       "                 Fecha               Región  Generación Neta MW  \\\n",
       "0  01-08-2023 23:54:47      Baja California              2506.0   \n",
       "1  01-08-2023 23:54:47  Baja California Sur               610.0   \n",
       "2  01-08-2023 23:54:47              CENTRAL              4191.0   \n",
       "3  01-08-2023 23:54:47              NORESTE             12542.0   \n",
       "4  01-08-2023 23:54:47             NOROESTE              4771.0   \n",
       "5  01-08-2023 23:54:47                NORTE              4063.0   \n",
       "6  01-08-2023 23:54:47           OCCIDENTAL              6264.0   \n",
       "7  01-08-2023 23:54:47             ORIENTAL             10749.0   \n",
       "8  01-08-2023 23:54:47           PENINSULAR              1358.0   \n",
       "9  01-08-2023 23:54:47        S.I. NACIONAL             43933.0   \n",
       "\n",
       "   Demanda Neta MW  Diferencia MW Pronóstico Neto MW  \n",
       "0           2516.0          -10.0               2951  \n",
       "1            597.0           13.0                591  \n",
       "2           6228.0        -2037.0               6988  \n",
       "3          10014.0         2528.0               9811  \n",
       "4           4884.0         -113.0               5056  \n",
       "5           4525.0         -462.0               4929  \n",
       "6           9091.0        -2827.0               9411  \n",
       "7           7043.0         3706.0               7521  \n",
       "8           2309.0         -951.0               2536  \n",
       "9          44060.0         -127.0                 00  "
      ]
     },
     "execution_count": 105,
     "metadata": {},
     "output_type": "execute_result"
    }
   ],
   "source": [
    "fecha = datetime.datetime.now().strftime(\"%d-%m-%Y %H:%M:%S\")\n",
    "for clave in clave_region:\n",
    "        \n",
    "      titulo_region = soup.find(\"li\", class_ = clave)\n",
    "      region = titulo_region.select_one(\".titlex\").text\n",
    "\n",
    "      p_tags = soup.select(\"li.\" + clave + \" p\") # Selecciono las 3 etiquetas p\n",
    "      for p_tag in p_tags:\n",
    "            if \"Demanda Neta:\" in p_tag.text:\n",
    "                 demanda_neta = float(p_tag.select_one(\".bold\").text.strip().replace(\",\",\"\")[:-3]) \n",
    "            elif \"Generación Neta\" in p_tag.text:\n",
    "                 generacion_neta = float(p_tag.select_one(\".bold\").text.strip().replace(\",\",\"\")[:-3])\n",
    "            elif \"Pronóstico Neto\" in p_tag.text:\n",
    "                 pronostico_neto = p_tag.select_one(\".bold\").text.strip().replace(\",\",\"\")[:-3]     \n",
    "               \n",
    "      datos.append({\n",
    "              \"Fecha\" : fecha,\n",
    "              \"Región\": region,\n",
    "              \"Generación Neta MW\" : generacion_neta,\n",
    "              \"Demanda Neta MW\" : demanda_neta,\n",
    "              \"Diferencia MW\" : generacion_neta - demanda_neta,\n",
    "              \"Pronóstico Neto MW\" : pronostico_neto\n",
    "            })\n",
    "      \n",
    "df = pd.DataFrame(datos)\n",
    "df"
   ]
  }
 ],
 "metadata": {
  "kernelspec": {
   "display_name": "Python 3",
   "language": "python",
   "name": "python3"
  },
  "language_info": {
   "codemirror_mode": {
    "name": "ipython",
    "version": 3
   },
   "file_extension": ".py",
   "mimetype": "text/x-python",
   "name": "python",
   "nbconvert_exporter": "python",
   "pygments_lexer": "ipython3",
   "version": "3.9.2"
  },
  "orig_nbformat": 4
 },
 "nbformat": 4,
 "nbformat_minor": 2
}
