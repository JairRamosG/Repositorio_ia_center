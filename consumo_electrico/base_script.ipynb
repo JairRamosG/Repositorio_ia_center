{
 "cells": [
  {
   "cell_type": "code",
   "execution_count": 99,
   "metadata": {},
   "outputs": [],
   "source": [
    "import requests\n",
    "from bs4 import BeautifulSoup\n",
    "import datetime\n",
    "import pandas as pd"
   ]
  },
  {
   "cell_type": "code",
   "execution_count": 108,
   "metadata": {},
   "outputs": [
    {
     "name": "stdout",
     "output_type": "stream",
     "text": [
      "<Response [200]>\n"
     ]
    }
   ],
   "source": [
    "pagina_web = requests.get(\"https://www.cenace.gob.mx/graficademanda.aspx\")\n",
    "print(pagina_web) # 200 respuesta positiva"
   ]
  },
  {
   "cell_type": "code",
   "execution_count": 109,
   "metadata": {},
   "outputs": [],
   "source": [
    "soup = BeautifulSoup(pagina_web.text, \"html.parser\")"
   ]
  },
  {
   "cell_type": "code",
   "execution_count": 110,
   "metadata": {},
   "outputs": [],
   "source": [
    "datos = []\n",
    "clave_region = [\"ccbc\", \"ccbcsur\", \"cccentral\", \"ccnoreste\", \"ccnoroeste\", \n",
    "                \"ccnorte\", \"ccoccidental\", \"ccoriental\", \"ccpeninsular\", \"sinacional\"]"
   ]
  },
  {
   "cell_type": "code",
   "execution_count": 111,
   "metadata": {},
   "outputs": [
    {
     "data": {
      "text/plain": [
       "<li class=\"ccbcsur\">\n",
       "<span class=\"titlex\">Baja California Sur</span>\n",
       "<p>\n",
       "                                Demanda Neta:\n",
       "                                <span class=\"bold\" id=\"ContentPlaceHolder1_demandaBCS\">584 MW</span>\n",
       "</p>\n",
       "<p>\n",
       "                                Generación Neta:\n",
       "                                <span class=\"bold\" id=\"ContentPlaceHolder1_generacionBCS\">598 MW</span>\n",
       "</p>\n",
       "<p>\n",
       "                                Pronóstico Neto:\n",
       "                                <span class=\"bold\" id=\"ContentPlaceHolder1_enlaceBCS\">00 MW</span>\n",
       "</p>\n",
       "<p style=\"font-size: 11px; margin-top:10px\">\n",
       "<span class=\"bold\" id=\"ContentPlaceHolder1_datetimeBCS\">02/08/2023 12:30:45 a. m.</span>\n",
       "</p>\n",
       "</li>"
      ]
     },
     "execution_count": 111,
     "metadata": {},
     "output_type": "execute_result"
    }
   ],
   "source": [
    "region = \"ccbcsur\"\n",
    "datos_region = soup.find(\"li\", class_ = region)\n",
    "datos_region"
   ]
  },
  {
   "cell_type": "code",
   "execution_count": 112,
   "metadata": {},
   "outputs": [
    {
     "name": "stdout",
     "output_type": "stream",
     "text": [
      "ccbc\n",
      "ccbcsur\n",
      "cccentral\n",
      "ccnoreste\n",
      "ccnoroeste\n",
      "ccnorte\n",
      "ccoccidental\n",
      "ccoriental\n",
      "ccpeninsular\n",
      "sinacional\n"
     ]
    }
   ],
   "source": [
    "for clave in clave_region:\n",
    "    print(clave)"
   ]
  },
  {
   "cell_type": "code",
   "execution_count": 113,
   "metadata": {},
   "outputs": [
    {
     "data": {
      "text/html": [
       "<div>\n",
       "<style scoped>\n",
       "    .dataframe tbody tr th:only-of-type {\n",
       "        vertical-align: middle;\n",
       "    }\n",
       "\n",
       "    .dataframe tbody tr th {\n",
       "        vertical-align: top;\n",
       "    }\n",
       "\n",
       "    .dataframe thead th {\n",
       "        text-align: right;\n",
       "    }\n",
       "</style>\n",
       "<table border=\"1\" class=\"dataframe\">\n",
       "  <thead>\n",
       "    <tr style=\"text-align: right;\">\n",
       "      <th></th>\n",
       "      <th>Fecha</th>\n",
       "      <th>Región</th>\n",
       "      <th>Generación Neta MW</th>\n",
       "      <th>Demanda Neta MW</th>\n",
       "      <th>Diferencia MW</th>\n",
       "      <th>Pronóstico Neto MW</th>\n",
       "    </tr>\n",
       "  </thead>\n",
       "  <tbody>\n",
       "    <tr>\n",
       "      <th>0</th>\n",
       "      <td>02-08-2023 00:32:46</td>\n",
       "      <td>Baja California</td>\n",
       "      <td>2475.0</td>\n",
       "      <td>2446.0</td>\n",
       "      <td>29.0</td>\n",
       "      <td>00</td>\n",
       "    </tr>\n",
       "    <tr>\n",
       "      <th>1</th>\n",
       "      <td>02-08-2023 00:32:46</td>\n",
       "      <td>Baja California Sur</td>\n",
       "      <td>598.0</td>\n",
       "      <td>584.0</td>\n",
       "      <td>14.0</td>\n",
       "      <td>00</td>\n",
       "    </tr>\n",
       "    <tr>\n",
       "      <th>2</th>\n",
       "      <td>02-08-2023 00:32:46</td>\n",
       "      <td>CENTRAL</td>\n",
       "      <td>3912.0</td>\n",
       "      <td>6016.0</td>\n",
       "      <td>-2104.0</td>\n",
       "      <td>00</td>\n",
       "    </tr>\n",
       "    <tr>\n",
       "      <th>3</th>\n",
       "      <td>02-08-2023 00:32:46</td>\n",
       "      <td>NORESTE</td>\n",
       "      <td>12426.0</td>\n",
       "      <td>9988.0</td>\n",
       "      <td>2438.0</td>\n",
       "      <td>00</td>\n",
       "    </tr>\n",
       "    <tr>\n",
       "      <th>4</th>\n",
       "      <td>02-08-2023 00:32:46</td>\n",
       "      <td>NOROESTE</td>\n",
       "      <td>4771.0</td>\n",
       "      <td>4785.0</td>\n",
       "      <td>-14.0</td>\n",
       "      <td>00</td>\n",
       "    </tr>\n",
       "    <tr>\n",
       "      <th>5</th>\n",
       "      <td>02-08-2023 00:32:46</td>\n",
       "      <td>NORTE</td>\n",
       "      <td>4126.0</td>\n",
       "      <td>4425.0</td>\n",
       "      <td>-299.0</td>\n",
       "      <td>00</td>\n",
       "    </tr>\n",
       "    <tr>\n",
       "      <th>6</th>\n",
       "      <td>02-08-2023 00:32:46</td>\n",
       "      <td>OCCIDENTAL</td>\n",
       "      <td>6193.0</td>\n",
       "      <td>8865.0</td>\n",
       "      <td>-2672.0</td>\n",
       "      <td>00</td>\n",
       "    </tr>\n",
       "    <tr>\n",
       "      <th>7</th>\n",
       "      <td>02-08-2023 00:32:46</td>\n",
       "      <td>ORIENTAL</td>\n",
       "      <td>10360.0</td>\n",
       "      <td>6885.0</td>\n",
       "      <td>3475.0</td>\n",
       "      <td>00</td>\n",
       "    </tr>\n",
       "    <tr>\n",
       "      <th>8</th>\n",
       "      <td>02-08-2023 00:32:46</td>\n",
       "      <td>PENINSULAR</td>\n",
       "      <td>1334.0</td>\n",
       "      <td>2250.0</td>\n",
       "      <td>-916.0</td>\n",
       "      <td>00</td>\n",
       "    </tr>\n",
       "    <tr>\n",
       "      <th>9</th>\n",
       "      <td>02-08-2023 00:32:46</td>\n",
       "      <td>S.I. NACIONAL</td>\n",
       "      <td>43128.0</td>\n",
       "      <td>43211.0</td>\n",
       "      <td>-83.0</td>\n",
       "      <td>43377</td>\n",
       "    </tr>\n",
       "  </tbody>\n",
       "</table>\n",
       "</div>"
      ],
      "text/plain": [
       "                 Fecha               Región  Generación Neta MW  \\\n",
       "0  02-08-2023 00:32:46      Baja California              2475.0   \n",
       "1  02-08-2023 00:32:46  Baja California Sur               598.0   \n",
       "2  02-08-2023 00:32:46              CENTRAL              3912.0   \n",
       "3  02-08-2023 00:32:46              NORESTE             12426.0   \n",
       "4  02-08-2023 00:32:46             NOROESTE              4771.0   \n",
       "5  02-08-2023 00:32:46                NORTE              4126.0   \n",
       "6  02-08-2023 00:32:46           OCCIDENTAL              6193.0   \n",
       "7  02-08-2023 00:32:46             ORIENTAL             10360.0   \n",
       "8  02-08-2023 00:32:46           PENINSULAR              1334.0   \n",
       "9  02-08-2023 00:32:46        S.I. NACIONAL             43128.0   \n",
       "\n",
       "   Demanda Neta MW  Diferencia MW Pronóstico Neto MW  \n",
       "0           2446.0           29.0                 00  \n",
       "1            584.0           14.0                 00  \n",
       "2           6016.0        -2104.0                 00  \n",
       "3           9988.0         2438.0                 00  \n",
       "4           4785.0          -14.0                 00  \n",
       "5           4425.0         -299.0                 00  \n",
       "6           8865.0        -2672.0                 00  \n",
       "7           6885.0         3475.0                 00  \n",
       "8           2250.0         -916.0                 00  \n",
       "9          43211.0          -83.0              43377  "
      ]
     },
     "execution_count": 113,
     "metadata": {},
     "output_type": "execute_result"
    }
   ],
   "source": [
    "fecha = datetime.datetime.now().strftime(\"%d-%m-%Y %H:%M:%S\")\n",
    "for clave in clave_region:\n",
    "        \n",
    "      titulo_region = soup.find(\"li\", class_ = clave)\n",
    "      region = titulo_region.select_one(\".titlex\").text\n",
    "\n",
    "      p_tags = soup.select(\"li.\" + clave + \" p\") # Selecciono las 3 etiquetas p\n",
    "      for p_tag in p_tags:\n",
    "            if \"Demanda Neta:\" in p_tag.text:\n",
    "                 demanda_neta = float(p_tag.select_one(\".bold\").text.strip().replace(\",\",\"\")[:-3]) \n",
    "            elif \"Generación Neta\" in p_tag.text:\n",
    "                 generacion_neta = float(p_tag.select_one(\".bold\").text.strip().replace(\",\",\"\")[:-3])\n",
    "            elif \"Pronóstico Neto\" in p_tag.text:\n",
    "                 pronostico_neto = p_tag.select_one(\".bold\").text.strip().replace(\",\",\"\")[:-3]     \n",
    "               \n",
    "      datos.append({\n",
    "              \"Fecha\" : fecha,\n",
    "              \"Región\": region,\n",
    "              \"Generación Neta MW\" : generacion_neta,\n",
    "              \"Demanda Neta MW\" : demanda_neta,\n",
    "              \"Diferencia MW\" : generacion_neta - demanda_neta,\n",
    "              \"Pronóstico Neto MW\" : pronostico_neto\n",
    "            })\n",
    "      \n",
    "df = pd.DataFrame(datos)\n",
    "df"
   ]
  }
 ],
 "metadata": {
  "kernelspec": {
   "display_name": "Python 3",
   "language": "python",
   "name": "python3"
  },
  "language_info": {
   "codemirror_mode": {
    "name": "ipython",
    "version": 3
   },
   "file_extension": ".py",
   "mimetype": "text/x-python",
   "name": "python",
   "nbconvert_exporter": "python",
   "pygments_lexer": "ipython3",
   "version": "3.9.2"
  },
  "orig_nbformat": 4
 },
 "nbformat": 4,
 "nbformat_minor": 2
}
