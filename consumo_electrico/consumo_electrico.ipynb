{
 "cells": [
  {
   "cell_type": "code",
   "execution_count": 1,
   "metadata": {},
   "outputs": [],
   "source": [
    "import requests\n",
    "from bs4 import BeautifulSoup"
   ]
  },
  {
   "cell_type": "code",
   "execution_count": 2,
   "metadata": {},
   "outputs": [
    {
     "name": "stdout",
     "output_type": "stream",
     "text": [
      "<Response [200]>\n"
     ]
    }
   ],
   "source": [
    "pagina_web = requests.get(\"https://www.cenace.gob.mx/graficademanda.aspx\")\n",
    "print(pagina_web) # 200 respuesta positiva"
   ]
  },
  {
   "cell_type": "code",
   "execution_count": 5,
   "metadata": {},
   "outputs": [],
   "source": [
    "soup = BeautifulSoup(pagina_web.text, \"html.parser\")"
   ]
  },
  {
   "cell_type": "code",
   "execution_count": 13,
   "metadata": {},
   "outputs": [],
   "source": [
    "demanda_neta = []\n",
    "generacion_neta = []\n",
    "pronostico_neto = []\n",
    "clave_region = [\"ccbc\", \"ccbcsur\", \"cccentral\", \"ccnoreste\", \"ccmoroeste\", \"ccnorte\", \"ccoccidental\", \"ccoriental\", \"ccpeninsular\", \"sinacional\"]"
   ]
  },
  {
   "cell_type": "code",
   "execution_count": 32,
   "metadata": {},
   "outputs": [
    {
     "data": {
      "text/plain": [
       "<li class=\"ccbcsur\">\n",
       "<span class=\"titlex\">Baja California Sur</span>\n",
       "<p>\n",
       "                                Demanda Neta:\n",
       "                                <span class=\"bold\" id=\"ContentPlaceHolder1_demandaBCS\">590 MW</span>\n",
       "</p>\n",
       "<p>\n",
       "                                Generación Neta:\n",
       "                                <span class=\"bold\" id=\"ContentPlaceHolder1_generacionBCS\">605 MW</span>\n",
       "</p>\n",
       "<p>\n",
       "                                Pronóstico Neto:\n",
       "                                <span class=\"bold\" id=\"ContentPlaceHolder1_enlaceBCS\">584 MW</span>\n",
       "</p>\n",
       "<p style=\"font-size: 11px; margin-top:10px\">\n",
       "<span class=\"bold\" id=\"ContentPlaceHolder1_datetimeBCS\">01/08/2023 08:40:45 p. m.</span>\n",
       "</p>\n",
       "</li>"
      ]
     },
     "execution_count": 32,
     "metadata": {},
     "output_type": "execute_result"
    }
   ],
   "source": [
    "region = \"ccbcsur\"\n",
    "datos_region = soup.find(\"li\", class_ = region)\n",
    "datos_region\n"
   ]
  },
  {
   "cell_type": "code",
   "execution_count": 35,
   "metadata": {},
   "outputs": [
    {
     "data": {
      "text/plain": [
       "('Baja California', '590', '605', '584')"
      ]
     },
     "execution_count": 35,
     "metadata": {},
     "output_type": "execute_result"
    }
   ],
   "source": [
    "clave_region = \"ccbcsur\"\n",
    "\n",
    "region = soup.select_one(\".titlex\").text # Nombre de la región\n",
    "\n",
    "ps_region = \"li.\" + clave_region + \" p\"\n",
    "p_tags = soup.select(ps_region) # Selecciono las 3 etiquetas p\n",
    "for p_tag in p_tags:\n",
    "    if \"Demanda Neta:\" in p_tag.text:\n",
    "        demanda_neta = p_tag.select_one(\".bold\").text[:-3]\n",
    "    elif \"Generación Neta\" in p_tag.text:\n",
    "        generacion_neta = p_tag.select_one(\".bold\").text[:-3]\n",
    "    elif \"Pronóstico Neto\" in p_tag.text:\n",
    "        pronostico_neto = p_tag.select_one(\".bold\").text[:-3]\n",
    "\n",
    "region, demanda_neta, generacion_neta, pronostico_neto\n"
   ]
  }
 ],
 "metadata": {
  "kernelspec": {
   "display_name": "Python 3",
   "language": "python",
   "name": "python3"
  },
  "language_info": {
   "codemirror_mode": {
    "name": "ipython",
    "version": 3
   },
   "file_extension": ".py",
   "mimetype": "text/x-python",
   "name": "python",
   "nbconvert_exporter": "python",
   "pygments_lexer": "ipython3",
   "version": "3.9.2"
  },
  "orig_nbformat": 4
 },
 "nbformat": 4,
 "nbformat_minor": 2
}
